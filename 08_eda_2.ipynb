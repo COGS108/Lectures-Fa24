{
 "cells": [
  {
   "cell_type": "code",
   "execution_count": null,
   "id": "56a380db-19d6-440f-8e4e-4350cca56c1c",
   "metadata": {},
   "outputs": [],
   "source": [
    "# import working with data libraries\n",
    "import pandas as pd\n",
    "import numpy as np\n",
    "\n",
    "# import seaborn\n",
    "import seaborn as sns\n",
    "\n",
    "# import matplotlib\n",
    "import matplotlib.pyplot as plt # Typical way of import MPL\n",
    "import matplotlib as mpl # This line is used less frequently\n",
    "\n",
    "#improve resolution\n",
    "#comment this line if erroring on your machine/screen\n",
    "%config InlineBackend.figure_format ='retina'\n",
    "\n",
    "sns.set_theme(style='white')\n",
    "plt.rcParams['figure.figsize'] = (16,10) # plot size to output"
   ]
  },
  {
   "cell_type": "code",
   "execution_count": null,
   "id": "16f780e9-8921-4ad1-81fa-aed99653c7e6",
   "metadata": {},
   "outputs": [],
   "source": [
    "df = pd.read_csv('https://github.com/COGS108/Lectures-Fa24/raw/main/data/df_for_viz.csv')\n",
    "\n",
    "df.major = df.major.replace( {\n",
    "    'Computer Science and Engineering':'CSE',\n",
    "    'Electrical and Computer Engineering':'ECE',\n",
    "    'Other engineering (BE, MAE, SE, etc)':'Other engr',\n",
    "    'Other STEM (sorry, until now not many of our students have come from your degree!)':'Other STEM',\n",
    "    'Other liberal arts (sorry, until now not many of our students have come from your degree!)':'Other liberal arts'    \n",
    "})\n",
    "\n",
    "df"
   ]
  },
  {
   "cell_type": "markdown",
   "id": "f59ee5a3-0f27-40e3-970e-b1605666ca8c",
   "metadata": {},
   "source": [
    "# Now, what is...\n",
    "- the composition of majors in this class?\n",
    "- the relationship between different programming skill sets and major?\n",
    "  \n",
    "# Then tell us what you learned\n",
    "https://forms.gle/65aZQoyhU7n1449y9"
   ]
  },
  {
   "cell_type": "code",
   "execution_count": null,
   "id": "d925180a-0d96-4bc3-9782-728758f28668",
   "metadata": {},
   "outputs": [],
   "source": []
  },
  {
   "cell_type": "code",
   "execution_count": null,
   "id": "e66e0a14-f702-463c-b0aa-bca9158ed3fb",
   "metadata": {},
   "outputs": [],
   "source": []
  },
  {
   "cell_type": "code",
   "execution_count": null,
   "id": "e8bb6d75-909e-440e-9f7b-b92ecf9505bc",
   "metadata": {},
   "outputs": [],
   "source": []
  },
  {
   "cell_type": "code",
   "execution_count": null,
   "id": "f2793397-c6e4-43db-b678-e801e6344b4b",
   "metadata": {},
   "outputs": [],
   "source": []
  }
 ],
 "metadata": {
  "kernelspec": {
   "display_name": "Python 3 (ipykernel)",
   "language": "python",
   "name": "python3"
  },
  "language_info": {
   "codemirror_mode": {
    "name": "ipython",
    "version": 3
   },
   "file_extension": ".py",
   "mimetype": "text/x-python",
   "name": "python",
   "nbconvert_exporter": "python",
   "pygments_lexer": "ipython3",
   "version": "3.11.9"
  }
 },
 "nbformat": 4,
 "nbformat_minor": 5
}
